{
 "cells": [
  {
   "cell_type": "code",
   "execution_count": 13,
   "metadata": {},
   "outputs": [],
   "source": [
    "import pennylane as qml\n",
    "from pennylane import numpy as np"
   ]
  },
  {
   "cell_type": "code",
   "execution_count": 14,
   "metadata": {},
   "outputs": [
    {
     "name": "stdout",
     "output_type": "stream",
     "text": [
      "0: ──RX(0.10)─╭●───────╭X──RX(0.50)─╭●───────╭X─┤  <Z>\n",
      "1: ──RX(0.20)─╰X─╭●────│───RX(0.60)─╰X─╭●────│──┤     \n",
      "2: ──RX(0.30)────╰X─╭●─│───RX(0.70)────╰X─╭●─│──┤     \n",
      "3: ──RX(0.40)───────╰X─╰●──RX(0.80)───────╰X─╰●─┤     \n"
     ]
    }
   ],
   "source": [
    "n_wires = 4\n",
    "dev = qml.device(\"default.qubit\", wires = n_wires)\n",
    "\n",
    "@qml.qnode(dev)\n",
    "def entangler_circuit(weights):\n",
    "  qml.BasicEntanglerLayers(weights, wires = range(n_wires))\n",
    "  return qml.expval(qml.PauliZ(0))\n",
    "\n",
    "print(qml.draw(entangler_circuit, level = \"device\")([[0.1,0.2,0.3,0.4],[0.5,0.6,0.7, 0.8]]))"
   ]
  },
  {
   "cell_type": "markdown",
   "metadata": {},
   "source": [
    "We can calculate the gradient of the function $F: \\mathbb{R}^4 \\to \\mathbb{R}$ defined by $F(\\theta_0, \\dots, \\theta_3) := \\langle Z_0 \\rangle$."
   ]
  },
  {
   "cell_type": "code",
   "execution_count": 15,
   "metadata": {},
   "outputs": [
    {
     "name": "stdout",
     "output_type": "stream",
     "text": [
      "[[ 1.38777878e-17 -1.74813749e-01 -2.66766415e-01 -3.64609810e-01]]\n"
     ]
    }
   ],
   "source": [
    "n_wires = 4\n",
    "dev = qml.device(\"default.qubit\", wires = n_wires)\n",
    "\n",
    "@qml.qnode(dev)\n",
    "def entangler(weights):\n",
    "    qml.BasicEntanglerLayers(weights, wires = range(n_wires))\n",
    "    return qml.expval(qml.PauliZ(0))\n",
    "\n",
    "test_weights = np.array([[0.1,0.2,0.3,0.4]], requires_grad = True)\n",
    "print(qml.jacobian(entangler)(test_weights))\n"
   ]
  },
  {
   "cell_type": "markdown",
   "metadata": {},
   "source": [
    "Use parameter shift rule to calculate the jacobian"
   ]
  },
  {
   "cell_type": "code",
   "execution_count": 16,
   "metadata": {},
   "outputs": [
    {
     "name": "stdout",
     "output_type": "stream",
     "text": [
      "[[ 1.52785233e-17 -1.74813749e-01 -2.66766415e-01 -3.64609810e-01]]\n"
     ]
    }
   ],
   "source": [
    "n_wires = 4\n",
    "dev = qml.device(\"default.qubit\", wires = n_wires)\n",
    "\n",
    "@qml.qnode(dev, interface=\"autograd\", diff_method=\"parameter-shift\")\n",
    "def entangler(weights):\n",
    "    qml.BasicEntanglerLayers(weights, wires = range(n_wires))\n",
    "    return qml.expval(qml.PauliZ(0))\n",
    "\n",
    "test_weights = np.array([[0.1,0.2,0.3,0.4]], requires_grad = True)\n",
    "print(qml.jacobian(entangler)(test_weights))"
   ]
  },
  {
   "cell_type": "markdown",
   "metadata": {},
   "source": [
    "We want some circuit parameters to be differentiated, while others should remain fixed. This is the reason why the requires_grad option is important. For example, let's consider two Basic Entangler layers and differentiate only with respect to the parameters diff_weights in the first layer. The parameters fixed_weights in the second layer remain constant. Let's also make sure that we use the parameter-shift rule."
   ]
  },
  {
   "cell_type": "code",
   "execution_count": 22,
   "metadata": {},
   "outputs": [
    {
     "name": "stdout",
     "output_type": "stream",
     "text": [
      "[[-3.06476461e-01  6.16087156e-02 -1.58799709e-17 -4.13038527e-01]]\n",
      "0: ──RX(0.50)──╭●───────╭X──RX(0.10)─╭●───────╭X─┤  <Z>\n",
      "1: ──RX(0.10)──╰X─╭●────│───RX(0.20)─╰X─╭●────│──┤     \n",
      "2: ──RX(-0.40)────╰X─╭●─│───RX(0.30)────╰X─╭●─│──┤     \n",
      "3: ──RX(0.60)────────╰X─╰●──RX(0.40)───────╰X─╰●─┤     \n"
     ]
    }
   ],
   "source": [
    "n_wires = 4\n",
    "dev = qml.device(\"default.qubit\", wires=n_wires)\n",
    "\n",
    "@qml.qnode(dev, interface=\"autograd\", diff_method=\"parameter-shift\")\n",
    "def entangler_fixed(diff_weights, fixed_weights):\n",
    "    qml.BasicEntanglerLayers(diff_weights, wires=range(n_wires))\n",
    "    qml.BasicEntanglerLayers(fixed_weights, wires=range(n_wires))\n",
    "    return qml.expval(qml.PauliZ(0))\n",
    "\n",
    "test_diff_weights = np.array([[0.5,0.1,-0.4,0.6]], requires_grad = True)\n",
    "test_fixed_weights = np.array([[0.1,0.2,0.3,0.4]], requires_grad = False)\n",
    "\n",
    "print(qml.jacobian(entangler_fixed)(test_diff_weights, test_fixed_weights))\n",
    "print(qml.draw(entangler_fixed, level=\"device\")(test_diff_weights, test_fixed_weights))"
   ]
  },
  {
   "cell_type": "markdown",
   "metadata": {},
   "source": [
    "We can also calculate Jacobian matrix of a circuit. For example, if the output of a circuit with $k$ wires are the measurement probabilities, the output can be a real-valued vector $(F_0, \\dots, F_{m-1})$ with $m = 2^k$ components. If the circuit depends on $n$ gate parameters $(\\theta_0, \\dots, \\theta_{n-1})$, then the circuit can be interpreted as a function\n",
    "$$\n",
    "F: \\mathbb{R}^n \\longrightarrow \\mathbb{R}^m\n",
    "$$\n",
    "where $(\\theta_0, \\dots, \\theta_{n-1}) \\mapsto (F_0, \\dots, F_{m-1})$."
   ]
  },
  {
   "cell_type": "code",
   "execution_count": 25,
   "metadata": {},
   "outputs": [
    {
     "name": "stdout",
     "output_type": "stream",
     "text": [
      "[[-0.0494192  -0.09908654]\n",
      " [ 0.00049751  0.00024813]\n",
      " [-0.00049751  0.09908654]\n",
      " [ 0.0494192  -0.00024813]]\n"
     ]
    }
   ],
   "source": [
    "dev = qml.device(\"default.qubit\", wires=2)\n",
    "\n",
    "@qml.qnode(dev)\n",
    "def vector_valued_circuit(params):\n",
    "    qml.RX(params[0], wires=0)\n",
    "    qml.CNOT(wires=[0,1])\n",
    "    qml.RY(params[1], wires=0)\n",
    "    return qml.probs(wires=[0,1])\n",
    "\n",
    "sample_params = np.array([0.1,0.2], requires_grad = True)\n",
    "print(qml.jacobian(vector_valued_circuit)(sample_params)) # we expect 4x2 matrix, since there are 2 parameters and 4 computational basis outcome probabilities.\n"
   ]
  },
  {
   "cell_type": "markdown",
   "metadata": {},
   "source": [
    "We can findn the Hessian of a function $F: \\mathbb{R}^n \\to \\mathbb{R}$ as the Jacobian of the gradient of $F$."
   ]
  },
  {
   "cell_type": "code",
   "execution_count": 26,
   "metadata": {},
   "outputs": [
    {
     "data": {
      "text/plain": [
       "array([[-0.73068165,  0.19037934],\n",
       "       [ 0.19037934, -0.73068165]])"
      ]
     },
     "execution_count": 26,
     "metadata": {},
     "output_type": "execute_result"
    }
   ],
   "source": [
    "dev = qml.device(\"default.qubit\", wires = 2)\n",
    "\n",
    "@qml.qnode(dev, diff_method = \"parameter-shift\", max_diff = 2)\n",
    "def scalar_valued_circuit(params):\n",
    "  qml.RX(params[0], wires = 0)\n",
    "  qml.CNOT(wires=[0,1])\n",
    "  qml.RY(params[1], wires = 0)\n",
    "  return qml.expval(qml.PauliZ(0))\n",
    "\n",
    "test_params = np.array([0.7,0.3], requires_grad = True)\n",
    "qml.jacobian(qml.jacobian(scalar_valued_circuit))(test_params)"
   ]
  },
  {
   "cell_type": "markdown",
   "metadata": {},
   "source": [
    "Optimizing circuits"
   ]
  },
  {
   "cell_type": "markdown",
   "metadata": {},
   "source": [
    "We would like to know what is the minimum expectation value that the circuit output $\\langle Z_0 \\rangle$ can have."
   ]
  },
  {
   "cell_type": "code",
   "execution_count": 27,
   "metadata": {},
   "outputs": [],
   "source": [
    "dev = qml.device(\"default.qubit\", wires = 2)\n",
    "\n",
    "@qml.qnode(dev, diff_method = \"parameter-shift\")\n",
    "def scalar_valued_circuit(params):\n",
    "    qml.RX(params[0], wires = 0)\n",
    "    qml.CNOT(wires=[0,1])\n",
    "    qml.RY(params[1], wires = 0)\n",
    "    return qml.expval(qml.PauliZ(0))"
   ]
  },
  {
   "cell_type": "code",
   "execution_count": 28,
   "metadata": {},
   "outputs": [],
   "source": [
    "def optimize(cost_function, init_params, *steps):\n",
    "    opt = qml.GradientDescentOptimizer(stepsize=0.4)\n",
    "    steps = 100\n",
    "    params = init_params\n",
    "    \n",
    "    for i in range(steps):\n",
    "        params = opt.step(cost_function, params)\n",
    "    \n",
    "    return params, cost_function(params)"
   ]
  },
  {
   "cell_type": "code",
   "execution_count": 31,
   "metadata": {},
   "outputs": [
    {
     "name": "stdout",
     "output_type": "stream",
     "text": [
      "(tensor([3.14159265e+00, 8.76940135e-17], requires_grad=True), array(-1.))\n"
     ]
    }
   ],
   "source": [
    "initial_parameters = np.array([0.7,0.3], requires_grad = True)\n",
    "print(optimize(scalar_valued_circuit, initial_parameters, 100))"
   ]
  },
  {
   "cell_type": "code",
   "execution_count": 36,
   "metadata": {},
   "outputs": [
    {
     "name": "stdout",
     "output_type": "stream",
     "text": [
      "The output of your circuit with these weights is:  0.2773366786368507\n"
     ]
    }
   ],
   "source": [
    "dev = qml.device(\"default.qubit\", wires = 4)\n",
    "\n",
    "@qml.qnode(dev)\n",
    "def strong_entangler(params):\n",
    "    \"\"\"\n",
    "    Applies Strongly Entangling Layers to the default initial state\n",
    "    Args:\n",
    "    - weights (np.ndarray): The weights argument for qml.StronglyEntanglingLayers\n",
    "    Returns:\n",
    "    - (np.tensor): <Z0>\n",
    "    \"\"\"\n",
    "\n",
    "    ####################\n",
    "    ###YOUR CODE HERE###\n",
    "    ####################\n",
    "    qml.StronglyEntanglingLayers(weights=params, wires=range(4))\n",
    "    \n",
    "    return qml.expval(qml.PauliZ(0))\n",
    "\n",
    "test_weights = np.array([[[0.1, 0.2, 0.3],\n",
    "                          [0.4, 0.5, 0.6],\n",
    "                          [0.7, 0.8, 0.9],\n",
    "                          [1.0, 1.1, 1.2]]])\n",
    "\n",
    "print(\"The output of your circuit with these weights is: \", strong_entangler(test_weights))\n"
   ]
  },
  {
   "cell_type": "code",
   "execution_count": null,
   "metadata": {},
   "outputs": [],
   "source": []
  }
 ],
 "metadata": {
  "kernelspec": {
   "display_name": "plane",
   "language": "python",
   "name": "python3"
  },
  "language_info": {
   "codemirror_mode": {
    "name": "ipython",
    "version": 3
   },
   "file_extension": ".py",
   "mimetype": "text/x-python",
   "name": "python",
   "nbconvert_exporter": "python",
   "pygments_lexer": "ipython3",
   "version": "3.13.2"
  }
 },
 "nbformat": 4,
 "nbformat_minor": 2
}
