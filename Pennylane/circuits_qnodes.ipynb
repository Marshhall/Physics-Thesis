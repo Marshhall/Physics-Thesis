{
 "cells": [
  {
   "cell_type": "code",
   "execution_count": 1,
   "metadata": {},
   "outputs": [],
   "source": [
    "import pennylane as qml\n",
    "import numpy as np"
   ]
  },
  {
   "cell_type": "markdown",
   "metadata": {},
   "source": [
    "Create device on which the quantum circuit will run (use default.qubit). Then create a QNode to pair the quantum circuit with a device. All wires (qubits) in PennyLane are initialized to $|0\\rangle$."
   ]
  },
  {
   "cell_type": "code",
   "execution_count": 3,
   "metadata": {},
   "outputs": [
    {
     "name": "stdout",
     "output_type": "stream",
     "text": [
      "[ 0.19134172+0.46193977j -0.19134172-0.46193977j -0.19134172+0.46193977j\n",
      "  0.19134172-0.46193977j]\n"
     ]
    }
   ],
   "source": [
    "dev = qml.device(\"default.qubit\", wires=2)\n",
    "\n",
    "@qml.qnode(dev)\n",
    "def my_first_quantum_function(theta):\n",
    "    qml.RX(theta, wires=0)\n",
    "    qml.PauliY(wires=1)\n",
    "    qml.Hadamard(wires = 0)\n",
    "    qml.Hadamard(wires = 1)\n",
    "\n",
    "    return qml.state()\n",
    "\n",
    "print(my_first_quantum_function(np.pi/4))"
   ]
  },
  {
   "cell_type": "markdown",
   "metadata": {},
   "source": [
    "We can also distinguish the function from the QNode."
   ]
  },
  {
   "cell_type": "code",
   "execution_count": 4,
   "metadata": {},
   "outputs": [
    {
     "name": "stdout",
     "output_type": "stream",
     "text": [
      "[ 0.19134172+0.46193977j -0.19134172-0.46193977j -0.19134172+0.46193977j\n",
      "  0.19134172-0.46193977j]\n"
     ]
    }
   ],
   "source": [
    "dev = qml.device(\"default.qubit\", wires=2)\n",
    "\n",
    "def my_first_quantum_function(theta):\n",
    "    qml.RX(theta, wires=0)\n",
    "    qml.PauliY(wires=1)\n",
    "    qml.Hadamard(wires = 0)\n",
    "    qml.Hadamard(wires = 1)\n",
    "\n",
    "    return qml.state()\n",
    "\n",
    "my_first_qnode = qml.QNode(my_first_quantum_function, dev)\n",
    "\n",
    "print(my_first_qnode(np.pi/4))"
   ]
  },
  {
   "cell_type": "markdown",
   "metadata": {},
   "source": [
    "We can create custom wires"
   ]
  },
  {
   "cell_type": "code",
   "execution_count": 7,
   "metadata": {},
   "outputs": [
    {
     "name": "stdout",
     "output_type": "stream",
     "text": [
      "[0.70710678+0.j 0.        +0.j 0.        +0.j 0.70710678+0.j]\n"
     ]
    }
   ],
   "source": [
    "dev_c_t = qml.device(\"default.qubit\", wires=[\"control\", \"target\"])\n",
    "\n",
    "@qml.qnode(dev_c_t)\n",
    "def create_entangled():\n",
    "    qml.Hadamard(wires=\"control\")\n",
    "    qml.CNOT(wires=[\"control\", \"target\"])\n",
    "    \n",
    "    return qml.state()\n",
    "\n",
    "print(create_entangled())\n",
    "    "
   ]
  },
  {
   "cell_type": "markdown",
   "metadata": {},
   "source": [
    "We can define subcircuits"
   ]
  },
  {
   "cell_type": "code",
   "execution_count": 16,
   "metadata": {},
   "outputs": [
    {
     "name": "stdout",
     "output_type": "stream",
     "text": [
      "0: ──RX(0.40)──H─╭●─┤  \n",
      "1: ──Y───────────╰X─┤  \n"
     ]
    }
   ],
   "source": [
    "def subcircuit_1(angle):\n",
    "    qml.RX(angle, wires = 0)\n",
    "    qml.PauliY(wires = 1)\n",
    "    \n",
    "def subcircuit_2():\n",
    "    qml.Hadamard(wires = 0)\n",
    "    qml.CNOT(wires = [0,1])\n",
    "    \n",
    "# put them together\n",
    "def full_circuit(theta):\n",
    "    subcircuit_1(theta)\n",
    "    subcircuit_2()\n",
    "    \n",
    "theta = 0.4\n",
    "print(qml.draw(full_circuit)(theta))"
   ]
  },
  {
   "cell_type": "code",
   "execution_count": null,
   "metadata": {},
   "outputs": [],
   "source": []
  }
 ],
 "metadata": {
  "kernelspec": {
   "display_name": "plane",
   "language": "python",
   "name": "python3"
  },
  "language_info": {
   "codemirror_mode": {
    "name": "ipython",
    "version": 3
   },
   "file_extension": ".py",
   "mimetype": "text/x-python",
   "name": "python",
   "nbconvert_exporter": "python",
   "pygments_lexer": "ipython3",
   "version": "3.13.2"
  }
 },
 "nbformat": 4,
 "nbformat_minor": 2
}
